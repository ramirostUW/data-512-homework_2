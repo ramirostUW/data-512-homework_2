{
    "metadata": {
        "kernelspec": {
            "name": "python3",
            "display_name": "Python 3 (ipykernel)",
            "language": "python"
        },
        "language_info": {
            "name": "python",
            "version": "3.11.1",
            "mimetype": "text/x-python",
            "codemirror_mode": {
                "name": "ipython",
                "version": 3
            },
            "pygments_lexer": "ipython3",
            "nbconvert_exporter": "python",
            "file_extension": ".py"
        },
        "extensions": {
            "azuredatastudio": {
                "version": 1,
                "views": []
            }
        }
    },
    "nbformat_minor": 2,
    "nbformat": 4,
    "cells": [
        {
            "cell_type": "markdown",
            "source": [
                "# Step 4 - Conducting Analysis\n",
                "\n",
                "This notebook takes in the data that was refined and outputted in Step 3, and runs analysis on it by producing several tables from that dataset. These tables contain several meaningful insights, which are observed and considered in the Readme.MD file."
            ],
            "metadata": {
                "azdata_cell_guid": "e2dc7bf7-4798-4ada-9112-a1e72dbc89a0"
            },
            "attachments": {}
        },
        {
            "cell_type": "code",
            "source": [
                "#This cell defines constants and imports the notebook will use\n",
                "import os, json\n",
                "import pandas as pd\n",
                "\n",
                "refined_data_path = \"refined_data/wp_scored_city_articles_by_state.csv\""
            ],
            "metadata": {
                "azdata_cell_guid": "6bf1539f-d6d1-4654-a15d-f61893cb3df6",
                "tags": []
            },
            "outputs": [],
            "execution_count": 1
        },
        {
            "cell_type": "code",
            "source": [
                "#This cell imports the outputted dataset from Step 3 and displays \r\n",
                "#it for a quick sanity check\r\n",
                "\r\n",
                "wp_scored_city_articles_by_state = pd.read_csv(refined_data_path)\r\n",
                "wp_scored_city_articles_by_state"
            ],
            "metadata": {
                "azdata_cell_guid": "25dae7b5-134b-4ac9-b75a-7a730a056d2d"
            },
            "outputs": [
                {
                    "data": {
                        "text/plain": "               state   regional_division  population  \\\n0            Indiana  East North Central   6833037.0   \n1           Michigan  East North Central  10034113.0   \n2           New York     Middle Atlantic  19677151.0   \n3              Idaho            Mountain   1939033.0   \n4             Hawaii             Pacific   1440196.0   \n...              ...                 ...         ...   \n21509         Hawaii             Pacific   1440196.0   \n21510       Illinois  East North Central  12582032.0   \n21511         Hawaii             Pacific   1440196.0   \n21512         Hawaii             Pacific   1440196.0   \n21513  West Virginia      South Atlantic   1775156.0   \n\n                             article_title  revision_id article_quality  \n0                   Princes Lakes, Indiana   1019560872            Stub  \n1      Montrose Charter Township, Michigan    101989287            Stub  \n2                        Holcomb, New York   1024625267            Stub  \n3                     Moyie Springs, Idaho   1032509578               C  \n4                          Kilauea, Hawaii   1036838051            Stub  \n...                                    ...          ...             ...  \n21509                         Omao, Hawaii    965363482            Stub  \n21510                    Chicago, Illinois    967239270            Stub  \n21511                      Waikane, Hawaii    982615222            Stub  \n21512      Kailua, Honolulu County, Hawaii    985095782            Stub  \n21513               Matoaka, West Virginia    999751661               C  \n\n[21514 rows x 6 columns]",
                        "text/html": "<div>\n<style scoped>\n    .dataframe tbody tr th:only-of-type {\n        vertical-align: middle;\n    }\n\n    .dataframe tbody tr th {\n        vertical-align: top;\n    }\n\n    .dataframe thead th {\n        text-align: right;\n    }\n</style>\n<table border=\"1\" class=\"dataframe\">\n  <thead>\n    <tr style=\"text-align: right;\">\n      <th></th>\n      <th>state</th>\n      <th>regional_division</th>\n      <th>population</th>\n      <th>article_title</th>\n      <th>revision_id</th>\n      <th>article_quality</th>\n    </tr>\n  </thead>\n  <tbody>\n    <tr>\n      <th>0</th>\n      <td>Indiana</td>\n      <td>East North Central</td>\n      <td>6833037.0</td>\n      <td>Princes Lakes, Indiana</td>\n      <td>1019560872</td>\n      <td>Stub</td>\n    </tr>\n    <tr>\n      <th>1</th>\n      <td>Michigan</td>\n      <td>East North Central</td>\n      <td>10034113.0</td>\n      <td>Montrose Charter Township, Michigan</td>\n      <td>101989287</td>\n      <td>Stub</td>\n    </tr>\n    <tr>\n      <th>2</th>\n      <td>New York</td>\n      <td>Middle Atlantic</td>\n      <td>19677151.0</td>\n      <td>Holcomb, New York</td>\n      <td>1024625267</td>\n      <td>Stub</td>\n    </tr>\n    <tr>\n      <th>3</th>\n      <td>Idaho</td>\n      <td>Mountain</td>\n      <td>1939033.0</td>\n      <td>Moyie Springs, Idaho</td>\n      <td>1032509578</td>\n      <td>C</td>\n    </tr>\n    <tr>\n      <th>4</th>\n      <td>Hawaii</td>\n      <td>Pacific</td>\n      <td>1440196.0</td>\n      <td>Kilauea, Hawaii</td>\n      <td>1036838051</td>\n      <td>Stub</td>\n    </tr>\n    <tr>\n      <th>...</th>\n      <td>...</td>\n      <td>...</td>\n      <td>...</td>\n      <td>...</td>\n      <td>...</td>\n      <td>...</td>\n    </tr>\n    <tr>\n      <th>21509</th>\n      <td>Hawaii</td>\n      <td>Pacific</td>\n      <td>1440196.0</td>\n      <td>Omao, Hawaii</td>\n      <td>965363482</td>\n      <td>Stub</td>\n    </tr>\n    <tr>\n      <th>21510</th>\n      <td>Illinois</td>\n      <td>East North Central</td>\n      <td>12582032.0</td>\n      <td>Chicago, Illinois</td>\n      <td>967239270</td>\n      <td>Stub</td>\n    </tr>\n    <tr>\n      <th>21511</th>\n      <td>Hawaii</td>\n      <td>Pacific</td>\n      <td>1440196.0</td>\n      <td>Waikane, Hawaii</td>\n      <td>982615222</td>\n      <td>Stub</td>\n    </tr>\n    <tr>\n      <th>21512</th>\n      <td>Hawaii</td>\n      <td>Pacific</td>\n      <td>1440196.0</td>\n      <td>Kailua, Honolulu County, Hawaii</td>\n      <td>985095782</td>\n      <td>Stub</td>\n    </tr>\n    <tr>\n      <th>21513</th>\n      <td>West Virginia</td>\n      <td>South Atlantic</td>\n      <td>1775156.0</td>\n      <td>Matoaka, West Virginia</td>\n      <td>999751661</td>\n      <td>C</td>\n    </tr>\n  </tbody>\n</table>\n<p>21514 rows × 6 columns</p>\n</div>"
                    },
                    "metadata": {},
                    "execution_count": 2,
                    "output_type": "execute_result"
                }
            ],
            "execution_count": 2
        },
        {
            "cell_type": "code",
            "source": [
                "def is_high_quality(article_category):\r\n",
                "    if article_category == \"FA\":\r\n",
                "        return True;\r\n",
                "    if article_category == \"GA\":\r\n",
                "        return True;\r\n",
                "    return False;\r\n",
                "wp_scored_city_articles_by_state['is_high_quality_article'] = [is_high_quality(x) for x in list(wp_scored_city_articles_by_state['article_quality'])]\r\n",
                "high_quality_subset = wp_scored_city_articles_by_state[wp_scored_city_articles_by_state['is_high_quality_article'] == True]\r\n",
                "\r\n",
                "states_articles_agg = wp_scored_city_articles_by_state.groupby(['state', 'population'])['article_title'].agg('count')\r\n",
                "states_articles_agg = states_articles_agg.reset_index(name = \"article_count\")\r\n",
                "\r\n",
                "high_quality_subset_agg = high_quality_subset.groupby(['state', 'population'])['article_title'].agg('count')\r\n",
                "high_quality_subset_agg = high_quality_subset_agg.reset_index(name = \"hq_article_count\")\r\n",
                "\r\n",
                "states_articles_agg['article_count_over_population'] = states_articles_agg['article_count']/states_articles_agg['population']\r\n",
                "high_quality_subset_agg['hq_article_count_over_population'] = high_quality_subset_agg['hq_article_count']/high_quality_subset_agg['population']"
            ],
            "metadata": {
                "azdata_cell_guid": "25fee240-9617-43b9-9a91-3c34c93d7ab9",
                "tags": []
            },
            "outputs": [],
            "execution_count": 3
        },
        {
            "cell_type": "code",
            "source": [
                "states_articles_agg.sort_values(by=['article_count_over_population'], ascending=False).head(10)"
            ],
            "metadata": {
                "azdata_cell_guid": "2a07b395-3e0c-4642-a7f3-66461fd3dd9d",
                "tags": []
            },
            "outputs": [
                {
                    "output_type": "execute_result",
                    "execution_count": 44,
                    "data": {
                        "text/plain": "            state  population  article_count  article_count_over_population\n42        Vermont    647064.0            329                       0.000508\n31   North Dakota    779261.0            356                       0.000457\n17          Maine   1385340.0            483                       0.000349\n38   South Dakota    909824.0            311                       0.000342\n13           Iowa   3200517.0           1042                       0.000326\n1          Alaska    733583.0            149                       0.000203\n35   Pennsylvania  12972008.0           2556                       0.000197\n20       Michigan  10034113.0           1773                       0.000177\n47        Wyoming    581381.0             99                       0.000170\n26  New Hampshire   1395231.0            234                       0.000168",
                        "text/html": "<div>\n<style scoped>\n    .dataframe tbody tr th:only-of-type {\n        vertical-align: middle;\n    }\n\n    .dataframe tbody tr th {\n        vertical-align: top;\n    }\n\n    .dataframe thead th {\n        text-align: right;\n    }\n</style>\n<table border=\"1\" class=\"dataframe\">\n  <thead>\n    <tr style=\"text-align: right;\">\n      <th></th>\n      <th>state</th>\n      <th>population</th>\n      <th>article_count</th>\n      <th>article_count_over_population</th>\n    </tr>\n  </thead>\n  <tbody>\n    <tr>\n      <th>42</th>\n      <td>Vermont</td>\n      <td>647064.0</td>\n      <td>329</td>\n      <td>0.000508</td>\n    </tr>\n    <tr>\n      <th>31</th>\n      <td>North Dakota</td>\n      <td>779261.0</td>\n      <td>356</td>\n      <td>0.000457</td>\n    </tr>\n    <tr>\n      <th>17</th>\n      <td>Maine</td>\n      <td>1385340.0</td>\n      <td>483</td>\n      <td>0.000349</td>\n    </tr>\n    <tr>\n      <th>38</th>\n      <td>South Dakota</td>\n      <td>909824.0</td>\n      <td>311</td>\n      <td>0.000342</td>\n    </tr>\n    <tr>\n      <th>13</th>\n      <td>Iowa</td>\n      <td>3200517.0</td>\n      <td>1042</td>\n      <td>0.000326</td>\n    </tr>\n    <tr>\n      <th>1</th>\n      <td>Alaska</td>\n      <td>733583.0</td>\n      <td>149</td>\n      <td>0.000203</td>\n    </tr>\n    <tr>\n      <th>35</th>\n      <td>Pennsylvania</td>\n      <td>12972008.0</td>\n      <td>2556</td>\n      <td>0.000197</td>\n    </tr>\n    <tr>\n      <th>20</th>\n      <td>Michigan</td>\n      <td>10034113.0</td>\n      <td>1773</td>\n      <td>0.000177</td>\n    </tr>\n    <tr>\n      <th>47</th>\n      <td>Wyoming</td>\n      <td>581381.0</td>\n      <td>99</td>\n      <td>0.000170</td>\n    </tr>\n    <tr>\n      <th>26</th>\n      <td>New Hampshire</td>\n      <td>1395231.0</td>\n      <td>234</td>\n      <td>0.000168</td>\n    </tr>\n  </tbody>\n</table>\n</div>"
                    },
                    "metadata": {}
                }
            ],
            "execution_count": 44
        },
        {
            "cell_type": "code",
            "source": [
                "states_articles_agg.sort_values(by=['article_count_over_population'], ascending=True).head(10)"
            ],
            "metadata": {
                "azdata_cell_guid": "47e2b9c4-cd6c-440e-8644-d4c4d116c383"
            },
            "outputs": [
                {
                    "output_type": "execute_result",
                    "execution_count": 45,
                    "data": {
                        "text/plain": "             state  population  article_count  article_count_over_population\n30  North Carolina  10698973.0             50                       0.000005\n25          Nevada   3177772.0             19                       0.000006\n4       California  39029342.0            482                       0.000012\n2          Arizona   7359197.0             91                       0.000012\n43        Virginia   8683619.0            133                       0.000015\n7          Florida  22244823.0            411                       0.000018\n33        Oklahoma   4019800.0             75                       0.000019\n14          Kansas   2937150.0             63                       0.000021\n18        Maryland   6164660.0            157                       0.000025\n46       Wisconsin   5892539.0            191                       0.000032",
                        "text/html": "<div>\n<style scoped>\n    .dataframe tbody tr th:only-of-type {\n        vertical-align: middle;\n    }\n\n    .dataframe tbody tr th {\n        vertical-align: top;\n    }\n\n    .dataframe thead th {\n        text-align: right;\n    }\n</style>\n<table border=\"1\" class=\"dataframe\">\n  <thead>\n    <tr style=\"text-align: right;\">\n      <th></th>\n      <th>state</th>\n      <th>population</th>\n      <th>article_count</th>\n      <th>article_count_over_population</th>\n    </tr>\n  </thead>\n  <tbody>\n    <tr>\n      <th>30</th>\n      <td>North Carolina</td>\n      <td>10698973.0</td>\n      <td>50</td>\n      <td>0.000005</td>\n    </tr>\n    <tr>\n      <th>25</th>\n      <td>Nevada</td>\n      <td>3177772.0</td>\n      <td>19</td>\n      <td>0.000006</td>\n    </tr>\n    <tr>\n      <th>4</th>\n      <td>California</td>\n      <td>39029342.0</td>\n      <td>482</td>\n      <td>0.000012</td>\n    </tr>\n    <tr>\n      <th>2</th>\n      <td>Arizona</td>\n      <td>7359197.0</td>\n      <td>91</td>\n      <td>0.000012</td>\n    </tr>\n    <tr>\n      <th>43</th>\n      <td>Virginia</td>\n      <td>8683619.0</td>\n      <td>133</td>\n      <td>0.000015</td>\n    </tr>\n    <tr>\n      <th>7</th>\n      <td>Florida</td>\n      <td>22244823.0</td>\n      <td>411</td>\n      <td>0.000018</td>\n    </tr>\n    <tr>\n      <th>33</th>\n      <td>Oklahoma</td>\n      <td>4019800.0</td>\n      <td>75</td>\n      <td>0.000019</td>\n    </tr>\n    <tr>\n      <th>14</th>\n      <td>Kansas</td>\n      <td>2937150.0</td>\n      <td>63</td>\n      <td>0.000021</td>\n    </tr>\n    <tr>\n      <th>18</th>\n      <td>Maryland</td>\n      <td>6164660.0</td>\n      <td>157</td>\n      <td>0.000025</td>\n    </tr>\n    <tr>\n      <th>46</th>\n      <td>Wisconsin</td>\n      <td>5892539.0</td>\n      <td>191</td>\n      <td>0.000032</td>\n    </tr>\n  </tbody>\n</table>\n</div>"
                    },
                    "metadata": {}
                }
            ],
            "execution_count": 45
        },
        {
            "cell_type": "code",
            "source": [
                "high_quality_subset_agg.sort_values(by=['hq_article_count_over_population'], ascending=False).head(10)"
            ],
            "metadata": {
                "azdata_cell_guid": "2ed81b0e-4d26-4808-927d-0a67dccb0f0c"
            },
            "outputs": [
                {
                    "output_type": "execute_result",
                    "execution_count": 46,
                    "data": {
                        "text/plain": "            state  population  hq_article_count  \\\n42        Vermont    647064.0                45   \n47        Wyoming    581381.0                39   \n38   South Dakota    909824.0                56   \n45  West Virginia   1775156.0               106   \n24        Montana   1122867.0                55   \n26  New Hampshire   1395231.0                63   \n35   Pennsylvania  12972008.0               566   \n23       Missouri   6177957.0               263   \n1          Alaska    733583.0                31   \n27     New Jersey   9261699.0               379   \n\n    hq_article_count_over_population  \n42                          0.000070  \n47                          0.000067  \n38                          0.000062  \n45                          0.000060  \n24                          0.000049  \n26                          0.000045  \n35                          0.000044  \n23                          0.000043  \n1                           0.000042  \n27                          0.000041  ",
                        "text/html": "<div>\n<style scoped>\n    .dataframe tbody tr th:only-of-type {\n        vertical-align: middle;\n    }\n\n    .dataframe tbody tr th {\n        vertical-align: top;\n    }\n\n    .dataframe thead th {\n        text-align: right;\n    }\n</style>\n<table border=\"1\" class=\"dataframe\">\n  <thead>\n    <tr style=\"text-align: right;\">\n      <th></th>\n      <th>state</th>\n      <th>population</th>\n      <th>hq_article_count</th>\n      <th>hq_article_count_over_population</th>\n    </tr>\n  </thead>\n  <tbody>\n    <tr>\n      <th>42</th>\n      <td>Vermont</td>\n      <td>647064.0</td>\n      <td>45</td>\n      <td>0.000070</td>\n    </tr>\n    <tr>\n      <th>47</th>\n      <td>Wyoming</td>\n      <td>581381.0</td>\n      <td>39</td>\n      <td>0.000067</td>\n    </tr>\n    <tr>\n      <th>38</th>\n      <td>South Dakota</td>\n      <td>909824.0</td>\n      <td>56</td>\n      <td>0.000062</td>\n    </tr>\n    <tr>\n      <th>45</th>\n      <td>West Virginia</td>\n      <td>1775156.0</td>\n      <td>106</td>\n      <td>0.000060</td>\n    </tr>\n    <tr>\n      <th>24</th>\n      <td>Montana</td>\n      <td>1122867.0</td>\n      <td>55</td>\n      <td>0.000049</td>\n    </tr>\n    <tr>\n      <th>26</th>\n      <td>New Hampshire</td>\n      <td>1395231.0</td>\n      <td>63</td>\n      <td>0.000045</td>\n    </tr>\n    <tr>\n      <th>35</th>\n      <td>Pennsylvania</td>\n      <td>12972008.0</td>\n      <td>566</td>\n      <td>0.000044</td>\n    </tr>\n    <tr>\n      <th>23</th>\n      <td>Missouri</td>\n      <td>6177957.0</td>\n      <td>263</td>\n      <td>0.000043</td>\n    </tr>\n    <tr>\n      <th>1</th>\n      <td>Alaska</td>\n      <td>733583.0</td>\n      <td>31</td>\n      <td>0.000042</td>\n    </tr>\n    <tr>\n      <th>27</th>\n      <td>New Jersey</td>\n      <td>9261699.0</td>\n      <td>379</td>\n      <td>0.000041</td>\n    </tr>\n  </tbody>\n</table>\n</div>"
                    },
                    "metadata": {}
                }
            ],
            "execution_count": 46
        },
        {
            "cell_type": "code",
            "source": [
                "high_quality_subset_agg.sort_values(by=['hq_article_count_over_population'], ascending=True).head(10)"
            ],
            "metadata": {
                "azdata_cell_guid": "ab3a451d-ddff-4809-9015-25451b4a6559"
            },
            "outputs": [
                {
                    "output_type": "execute_result",
                    "execution_count": 49,
                    "data": {
                        "text/plain": "             state  population  hq_article_count  \\\n30  North Carolina  10698973.0                21   \n43        Virginia   8683619.0                18   \n25          Nevada   3177772.0                 8   \n2          Arizona   7359197.0                24   \n4       California  39029342.0               174   \n7          Florida  22244823.0               118   \n29        New York  19677151.0               110   \n18        Maryland   6164660.0                42   \n14          Kansas   2937150.0                22   \n33        Oklahoma   4019800.0                31   \n\n    hq_article_count_over_population  \n30                          0.000002  \n43                          0.000002  \n25                          0.000003  \n2                           0.000003  \n4                           0.000004  \n7                           0.000005  \n29                          0.000006  \n18                          0.000007  \n14                          0.000007  \n33                          0.000008  ",
                        "text/html": "<div>\n<style scoped>\n    .dataframe tbody tr th:only-of-type {\n        vertical-align: middle;\n    }\n\n    .dataframe tbody tr th {\n        vertical-align: top;\n    }\n\n    .dataframe thead th {\n        text-align: right;\n    }\n</style>\n<table border=\"1\" class=\"dataframe\">\n  <thead>\n    <tr style=\"text-align: right;\">\n      <th></th>\n      <th>state</th>\n      <th>population</th>\n      <th>hq_article_count</th>\n      <th>hq_article_count_over_population</th>\n    </tr>\n  </thead>\n  <tbody>\n    <tr>\n      <th>30</th>\n      <td>North Carolina</td>\n      <td>10698973.0</td>\n      <td>21</td>\n      <td>0.000002</td>\n    </tr>\n    <tr>\n      <th>43</th>\n      <td>Virginia</td>\n      <td>8683619.0</td>\n      <td>18</td>\n      <td>0.000002</td>\n    </tr>\n    <tr>\n      <th>25</th>\n      <td>Nevada</td>\n      <td>3177772.0</td>\n      <td>8</td>\n      <td>0.000003</td>\n    </tr>\n    <tr>\n      <th>2</th>\n      <td>Arizona</td>\n      <td>7359197.0</td>\n      <td>24</td>\n      <td>0.000003</td>\n    </tr>\n    <tr>\n      <th>4</th>\n      <td>California</td>\n      <td>39029342.0</td>\n      <td>174</td>\n      <td>0.000004</td>\n    </tr>\n    <tr>\n      <th>7</th>\n      <td>Florida</td>\n      <td>22244823.0</td>\n      <td>118</td>\n      <td>0.000005</td>\n    </tr>\n    <tr>\n      <th>29</th>\n      <td>New York</td>\n      <td>19677151.0</td>\n      <td>110</td>\n      <td>0.000006</td>\n    </tr>\n    <tr>\n      <th>18</th>\n      <td>Maryland</td>\n      <td>6164660.0</td>\n      <td>42</td>\n      <td>0.000007</td>\n    </tr>\n    <tr>\n      <th>14</th>\n      <td>Kansas</td>\n      <td>2937150.0</td>\n      <td>22</td>\n      <td>0.000007</td>\n    </tr>\n    <tr>\n      <th>33</th>\n      <td>Oklahoma</td>\n      <td>4019800.0</td>\n      <td>31</td>\n      <td>0.000008</td>\n    </tr>\n  </tbody>\n</table>\n</div>"
                    },
                    "metadata": {}
                }
            ],
            "execution_count": 49
        },
        {
            "cell_type": "code",
            "source": [
                "division_population_agg = pd.DataFrame({\r\n",
                "    \"state\": wp_scored_city_articles_by_state['state'],\r\n",
                "    \"regional_division\":  wp_scored_city_articles_by_state['regional_division'],\r\n",
                "    \"population\": wp_scored_city_articles_by_state['population']\r\n",
                "}).drop_duplicates() \r\n",
                "division_population_agg = division_population_agg.groupby(['regional_division'])['population'].agg('sum')\r\n",
                "division_population_agg = division_population_agg.reset_index(name = \"population\")\r\n",
                "\r\n",
                "division_aticles_agg = wp_scored_city_articles_by_state.groupby(['regional_division'])['article_title'].agg('count')\r\n",
                "division_aticles_agg = division_aticles_agg.reset_index(name = \"article_count\")\r\n",
                "\r\n",
                "division_agg = division_population_agg.join(division_aticles_agg.set_index('regional_division'), on='regional_division')\r\n",
                "division_agg['article_count_over_population'] = division_agg['article_count']/division_agg['population']\r\n",
                "\r\n",
                "hq_division_aticles_agg = high_quality_subset.groupby(['regional_division'])['article_title'].agg('count')\r\n",
                "hq_division_aticles_agg = hq_division_aticles_agg.reset_index(name = \"article_count\")\r\n",
                "\r\n",
                "hq_division_agg = division_population_agg.join(hq_division_aticles_agg.set_index('regional_division'), on='regional_division')\r\n",
                "hq_division_agg['hq_article_count_over_population'] = hq_division_agg['article_count']/hq_division_agg['population']\r\n",
                "hq_division_agg"
            ],
            "metadata": {
                "azdata_cell_guid": "e88e6ebc-ee4f-49cd-87a2-94ee34042018",
                "tags": []
            },
            "outputs": [
                {
                    "data": {
                        "text/plain": "    regional_division  population  article_count  \\\n0  East North Central  47097779.0            718   \n1  East South Central  19578002.0            316   \n2     Middle Atlantic  41910858.0           1055   \n3            Mountain  25514320.0            334   \n4         New England  11503343.0            225   \n5             Pacific  53229044.0            491   \n6      South Atlantic  66781137.0            526   \n7  West North Central  19721893.0            639   \n8  West South Central  41685250.0            633   \n\n   hq_article_count_over_population  \n0                          0.000015  \n1                          0.000016  \n2                          0.000025  \n3                          0.000013  \n4                          0.000020  \n5                          0.000009  \n6                          0.000008  \n7                          0.000032  \n8                          0.000015  ",
                        "text/html": "<div>\n<style scoped>\n    .dataframe tbody tr th:only-of-type {\n        vertical-align: middle;\n    }\n\n    .dataframe tbody tr th {\n        vertical-align: top;\n    }\n\n    .dataframe thead th {\n        text-align: right;\n    }\n</style>\n<table border=\"1\" class=\"dataframe\">\n  <thead>\n    <tr style=\"text-align: right;\">\n      <th></th>\n      <th>regional_division</th>\n      <th>population</th>\n      <th>article_count</th>\n      <th>hq_article_count_over_population</th>\n    </tr>\n  </thead>\n  <tbody>\n    <tr>\n      <th>0</th>\n      <td>East North Central</td>\n      <td>47097779.0</td>\n      <td>718</td>\n      <td>0.000015</td>\n    </tr>\n    <tr>\n      <th>1</th>\n      <td>East South Central</td>\n      <td>19578002.0</td>\n      <td>316</td>\n      <td>0.000016</td>\n    </tr>\n    <tr>\n      <th>2</th>\n      <td>Middle Atlantic</td>\n      <td>41910858.0</td>\n      <td>1055</td>\n      <td>0.000025</td>\n    </tr>\n    <tr>\n      <th>3</th>\n      <td>Mountain</td>\n      <td>25514320.0</td>\n      <td>334</td>\n      <td>0.000013</td>\n    </tr>\n    <tr>\n      <th>4</th>\n      <td>New England</td>\n      <td>11503343.0</td>\n      <td>225</td>\n      <td>0.000020</td>\n    </tr>\n    <tr>\n      <th>5</th>\n      <td>Pacific</td>\n      <td>53229044.0</td>\n      <td>491</td>\n      <td>0.000009</td>\n    </tr>\n    <tr>\n      <th>6</th>\n      <td>South Atlantic</td>\n      <td>66781137.0</td>\n      <td>526</td>\n      <td>0.000008</td>\n    </tr>\n    <tr>\n      <th>7</th>\n      <td>West North Central</td>\n      <td>19721893.0</td>\n      <td>639</td>\n      <td>0.000032</td>\n    </tr>\n    <tr>\n      <th>8</th>\n      <td>West South Central</td>\n      <td>41685250.0</td>\n      <td>633</td>\n      <td>0.000015</td>\n    </tr>\n  </tbody>\n</table>\n</div>"
                    },
                    "metadata": {},
                    "execution_count": 9,
                    "output_type": "execute_result"
                }
            ],
            "execution_count": 9
        },
        {
            "cell_type": "code",
            "source": [
                "division_agg.sort_values(by=['article_count_over_population'], ascending=True)"
            ],
            "metadata": {
                "azdata_cell_guid": "2d99715f-30da-4a07-ab59-0d41fe0ac2a6"
            },
            "outputs": [
                {
                    "data": {
                        "text/plain": "    regional_division  population  article_count  \\\n5             Pacific  53229044.0           1304   \n6      South Atlantic  66781137.0           1849   \n3            Mountain  25514320.0           1187   \n8  West South Central  41685250.0           2100   \n1  East South Central  19578002.0           1528   \n2     Middle Atlantic  41910858.0           3779   \n0  East North Central  47097779.0           4753   \n4         New England  11503343.0           1437   \n7  West North Central  19721893.0           3577   \n\n   article_count_over_population  \n5                       0.000024  \n6                       0.000028  \n3                       0.000047  \n8                       0.000050  \n1                       0.000078  \n2                       0.000090  \n0                       0.000101  \n4                       0.000125  \n7                       0.000181  ",
                        "text/html": "<div>\n<style scoped>\n    .dataframe tbody tr th:only-of-type {\n        vertical-align: middle;\n    }\n\n    .dataframe tbody tr th {\n        vertical-align: top;\n    }\n\n    .dataframe thead th {\n        text-align: right;\n    }\n</style>\n<table border=\"1\" class=\"dataframe\">\n  <thead>\n    <tr style=\"text-align: right;\">\n      <th></th>\n      <th>regional_division</th>\n      <th>population</th>\n      <th>article_count</th>\n      <th>article_count_over_population</th>\n    </tr>\n  </thead>\n  <tbody>\n    <tr>\n      <th>5</th>\n      <td>Pacific</td>\n      <td>53229044.0</td>\n      <td>1304</td>\n      <td>0.000024</td>\n    </tr>\n    <tr>\n      <th>6</th>\n      <td>South Atlantic</td>\n      <td>66781137.0</td>\n      <td>1849</td>\n      <td>0.000028</td>\n    </tr>\n    <tr>\n      <th>3</th>\n      <td>Mountain</td>\n      <td>25514320.0</td>\n      <td>1187</td>\n      <td>0.000047</td>\n    </tr>\n    <tr>\n      <th>8</th>\n      <td>West South Central</td>\n      <td>41685250.0</td>\n      <td>2100</td>\n      <td>0.000050</td>\n    </tr>\n    <tr>\n      <th>1</th>\n      <td>East South Central</td>\n      <td>19578002.0</td>\n      <td>1528</td>\n      <td>0.000078</td>\n    </tr>\n    <tr>\n      <th>2</th>\n      <td>Middle Atlantic</td>\n      <td>41910858.0</td>\n      <td>3779</td>\n      <td>0.000090</td>\n    </tr>\n    <tr>\n      <th>0</th>\n      <td>East North Central</td>\n      <td>47097779.0</td>\n      <td>4753</td>\n      <td>0.000101</td>\n    </tr>\n    <tr>\n      <th>4</th>\n      <td>New England</td>\n      <td>11503343.0</td>\n      <td>1437</td>\n      <td>0.000125</td>\n    </tr>\n    <tr>\n      <th>7</th>\n      <td>West North Central</td>\n      <td>19721893.0</td>\n      <td>3577</td>\n      <td>0.000181</td>\n    </tr>\n  </tbody>\n</table>\n</div>"
                    },
                    "metadata": {},
                    "execution_count": 10,
                    "output_type": "execute_result"
                }
            ],
            "execution_count": 10
        },
        {
            "cell_type": "code",
            "source": [
                "hq_division_agg.sort_values(by=['hq_article_count_over_population'], ascending=True)"
            ],
            "metadata": {
                "azdata_cell_guid": "82bd65ed-e003-44ad-8f27-df066473835b"
            },
            "outputs": [
                {
                    "data": {
                        "text/plain": "    regional_division  population  article_count  \\\n6      South Atlantic  66781137.0            526   \n5             Pacific  53229044.0            491   \n3            Mountain  25514320.0            334   \n8  West South Central  41685250.0            633   \n0  East North Central  47097779.0            718   \n1  East South Central  19578002.0            316   \n4         New England  11503343.0            225   \n2     Middle Atlantic  41910858.0           1055   \n7  West North Central  19721893.0            639   \n\n   hq_article_count_over_population  \n6                          0.000008  \n5                          0.000009  \n3                          0.000013  \n8                          0.000015  \n0                          0.000015  \n1                          0.000016  \n4                          0.000020  \n2                          0.000025  \n7                          0.000032  ",
                        "text/html": "<div>\n<style scoped>\n    .dataframe tbody tr th:only-of-type {\n        vertical-align: middle;\n    }\n\n    .dataframe tbody tr th {\n        vertical-align: top;\n    }\n\n    .dataframe thead th {\n        text-align: right;\n    }\n</style>\n<table border=\"1\" class=\"dataframe\">\n  <thead>\n    <tr style=\"text-align: right;\">\n      <th></th>\n      <th>regional_division</th>\n      <th>population</th>\n      <th>article_count</th>\n      <th>hq_article_count_over_population</th>\n    </tr>\n  </thead>\n  <tbody>\n    <tr>\n      <th>6</th>\n      <td>South Atlantic</td>\n      <td>66781137.0</td>\n      <td>526</td>\n      <td>0.000008</td>\n    </tr>\n    <tr>\n      <th>5</th>\n      <td>Pacific</td>\n      <td>53229044.0</td>\n      <td>491</td>\n      <td>0.000009</td>\n    </tr>\n    <tr>\n      <th>3</th>\n      <td>Mountain</td>\n      <td>25514320.0</td>\n      <td>334</td>\n      <td>0.000013</td>\n    </tr>\n    <tr>\n      <th>8</th>\n      <td>West South Central</td>\n      <td>41685250.0</td>\n      <td>633</td>\n      <td>0.000015</td>\n    </tr>\n    <tr>\n      <th>0</th>\n      <td>East North Central</td>\n      <td>47097779.0</td>\n      <td>718</td>\n      <td>0.000015</td>\n    </tr>\n    <tr>\n      <th>1</th>\n      <td>East South Central</td>\n      <td>19578002.0</td>\n      <td>316</td>\n      <td>0.000016</td>\n    </tr>\n    <tr>\n      <th>4</th>\n      <td>New England</td>\n      <td>11503343.0</td>\n      <td>225</td>\n      <td>0.000020</td>\n    </tr>\n    <tr>\n      <th>2</th>\n      <td>Middle Atlantic</td>\n      <td>41910858.0</td>\n      <td>1055</td>\n      <td>0.000025</td>\n    </tr>\n    <tr>\n      <th>7</th>\n      <td>West North Central</td>\n      <td>19721893.0</td>\n      <td>639</td>\n      <td>0.000032</td>\n    </tr>\n  </tbody>\n</table>\n</div>"
                    },
                    "metadata": {},
                    "execution_count": 11,
                    "output_type": "execute_result"
                }
            ],
            "execution_count": 11
        }
    ]
}